{
 "cells": [
  {
   "cell_type": "markdown",
   "metadata": {},
   "source": [
    "This notebook creates a gif or video from a folder of images. If your images are named as numbers (e.g. 1.png, 2.png, 3.png), they need to be zero padded to make the gif/video ordered correctly. E.g. if you have 300 images, the first one should be '001.png' instead of '1.png'\n"
   ]
  },
  {
   "cell_type": "code",
   "execution_count": 1,
   "metadata": {},
   "outputs": [],
   "source": [
    "# Imports\n",
    "import cv2\n",
    "import os\n",
    "import imageio\n",
    "from os import listdir\n",
    "from os.path import isfile, join\n"
   ]
  },
  {
   "cell_type": "markdown",
   "metadata": {},
   "source": [
    "Video output:\n",
    "\n",
    "Use the cell below for video output (mp4 format). This takes a folder of images as pngs (you can change the file type if you want) and a user specified file name for the output video.\n"
   ]
  },
  {
   "cell_type": "code",
   "execution_count": 2,
   "metadata": {},
   "outputs": [],
   "source": [
    "# Make mp4\n",
    "\n",
    "# change 'test' to the file path of your images\n",
    "image_folder = 'test'\n",
    "# change this to the output file name you'd like. Don't forget the .mp4 suffix!\n",
    "video_name = 'video.mp4'\n",
    "# here you can specify the frame rate you prefer (higher number = faster video)\n",
    "fps = 9\n",
    "\n",
    "# reads image files in your image_folder\n",
    "images = [img for img in sorted(os.listdir(\n",
    "    image_folder)) if img.endswith(\".png\")]\n",
    "frame = cv2.imread(os.path.join(image_folder, images[0]))\n",
    "height, width, layers = frame.shape\n",
    "\n",
    "# creates base video\n",
    "video = cv2.VideoWriter(video_name, 0, fps, (width, height))\n",
    "\n",
    "# adds images to your video\n",
    "for image in images:\n",
    "    video.write(cv2.imread(os.path.join(image_folder, image)))\n",
    "\n",
    "# closes the window\n",
    "cv2.destroyAllWindows()\n",
    "video.release()\n"
   ]
  },
  {
   "cell_type": "markdown",
   "metadata": {},
   "source": [
    "GIF output:\n",
    "\n",
    "Use the cell below if you'd like to create a GIF.\n"
   ]
  },
  {
   "cell_type": "code",
   "execution_count": 4,
   "metadata": {},
   "outputs": [
    {
     "name": "stderr",
     "output_type": "stream",
     "text": [
      "C:\\Users\\MMarochov\\AppData\\Local\\Temp\\1\\ipykernel_12380\\3609499367.py:18: DeprecationWarning: Starting with ImageIO v3 the behavior of this function will switch to that of iio.v3.imread. To keep the current behavior (and make this warning disappear) use `import imageio.v2 as imageio` or call `imageio.v2.imread` directly.\n",
      "  image = imageio.imread(filename)\n"
     ]
    }
   ],
   "source": [
    "# User inputs\n",
    "\n",
    "image_folder = 'test'\n",
    "gif_name = 'gif'\n",
    "\n",
    "# Makes a list of files in image_folder folder\n",
    "files = [f for f in listdir(image_folder) if isfile(join(image_folder, f))]\n",
    "\n",
    "# Make filenames list include full path for each image\n",
    "filenames = []\n",
    "for x in files:\n",
    "    filename = f'{image_folder}/{x}'\n",
    "    filenames.append(filename)\n",
    "\n",
    "# Make gif\n",
    "with imageio.get_writer(f'{gif_name}.gif', mode='I') as writer:\n",
    "    for filename in filenames:\n",
    "        image = imageio.imread(filename)\n",
    "        writer.append_data(image)\n",
    "\n",
    "# Optional: Delete all the images in your image folder\n",
    "# for filename in set(filenames):\n",
    "#     os.remove(filename)\n"
   ]
  }
 ],
 "metadata": {
  "interpreter": {
   "hash": "df6a242ece4b3433a52b1316e25331fcb86a6fa483b6c2aa61e7afc30e14d3d3"
  },
  "kernelspec": {
   "display_name": "Python 3.9.13 ('mpd-ex')",
   "language": "python",
   "name": "python3"
  },
  "language_info": {
   "codemirror_mode": {
    "name": "ipython",
    "version": 3
   },
   "file_extension": ".py",
   "mimetype": "text/x-python",
   "name": "python",
   "nbconvert_exporter": "python",
   "pygments_lexer": "ipython3",
   "version": "3.9.13"
  },
  "orig_nbformat": 4
 },
 "nbformat": 4,
 "nbformat_minor": 2
}
